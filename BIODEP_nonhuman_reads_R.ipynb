{
  "nbformat": 4,
  "nbformat_minor": 0,
  "metadata": {
    "colab": {
      "provenance": [],
      "authorship_tag": "ABX9TyNKv/tU4pHtACPwKjAwgyhf",
      "include_colab_link": true
    },
    "kernelspec": {
      "name": "ir",
      "display_name": "R"
    },
    "language_info": {
      "name": "R"
    }
  },
  "cells": [
    {
      "cell_type": "markdown",
      "metadata": {
        "id": "view-in-github",
        "colab_type": "text"
      },
      "source": [
        "<a href=\"https://colab.research.google.com/github/leonfrench/BIODEP_CRP/blob/main/BIODEP_nonhuman_reads_R.ipynb\" target=\"_parent\"><img src=\"https://colab.research.google.com/assets/colab-badge.svg\" alt=\"Open In Colab\"/></a>"
      ]
    },
    {
      "cell_type": "code",
      "execution_count": 21,
      "metadata": {
        "id": "u0Z8GTrfuL4U",
        "colab": {
          "base_uri": "https://localhost:8080/"
        },
        "outputId": "e952c168-8921-4c2b-cc39-1e5d3ca767f7"
      },
      "outputs": [
        {
          "output_type": "stream",
          "name": "stderr",
          "text": [
            "\n",
            "Attaching package: ‘tidyr’\n",
            "\n",
            "\n",
            "The following object is masked from ‘package:magrittr’:\n",
            "\n",
            "    extract\n",
            "\n",
            "\n"
          ]
        }
      ],
      "source": [
        "library(dplyr)\n",
        "library(magrittr)\n",
        "library(readr)\n",
        "library(tidyr)\n",
        "library(progress)\n",
        "library(broom)\n",
        "library(ggplot2)"
      ]
    },
    {
      "cell_type": "code",
      "source": [],
      "metadata": {
        "id": "HblDca_-uVtF"
      },
      "execution_count": 2,
      "outputs": []
    },
    {
      "cell_type": "code",
      "source": [
        "#from google bigquery STAT tables\n",
        "# SELECT m.acc, m.sample_acc, m.biosample, m.sra_study, m.bioproject, tax_id, name, total_count, self_count, mbases\n",
        "# FROM `nih-sra-datastore.sra.metadata` as m, `nih-sra-datastore.sra_tax_analysis_tool.tax_analysis` as tax\n",
        "# WHERE m.acc=tax.acc AND m.sra_study = 'ERP163445'\n",
        "\n",
        "stat_table <- read_csv(\"https://github.com/leonfrench/BIODEP_CRP/raw/refs/heads/main/data/bq-results-20250329-184723-1743274056865.csv\")\n",
        "stat_table %<>% select(acc, biosample, tax_id, name, total_count)\n",
        "\n"
      ],
      "metadata": {
        "colab": {
          "base_uri": "https://localhost:8080/"
        },
        "id": "VrOz56Ytu5ZD",
        "outputId": "4645bd91-507a-4643-bd3b-d4b4aeea8544"
      },
      "execution_count": 3,
      "outputs": [
        {
          "output_type": "stream",
          "name": "stderr",
          "text": [
            "\u001b[1mRows: \u001b[22m\u001b[34m464272\u001b[39m \u001b[1mColumns: \u001b[22m\u001b[34m10\u001b[39m\n",
            "\u001b[36m──\u001b[39m \u001b[1mColumn specification\u001b[22m \u001b[36m────────────────────────────────────────────────────────\u001b[39m\n",
            "\u001b[1mDelimiter:\u001b[22m \",\"\n",
            "\u001b[31mchr\u001b[39m (6): acc, sample_acc, biosample, sra_study, bioproject, name\n",
            "\u001b[32mdbl\u001b[39m (4): tax_id, total_count, self_count, mbases\n",
            "\n",
            "\u001b[36mℹ\u001b[39m Use `spec()` to retrieve the full column specification for this data.\n",
            "\u001b[36mℹ\u001b[39m Specify the column types or set `show_col_types = FALSE` to quiet this message.\n"
          ]
        }
      ]
    },
    {
      "cell_type": "code",
      "source": [
        "#number of samples\n",
        "stat_table %>% pull(biosample) %>% unique() %>% length()"
      ],
      "metadata": {
        "colab": {
          "base_uri": "https://localhost:8080/",
          "height": 34
        },
        "id": "hUVhcwbOvI-Z",
        "outputId": "ef29851f-9c11-49b3-8e4b-b162c3b9194f"
      },
      "execution_count": 4,
      "outputs": [
        {
          "output_type": "display_data",
          "data": {
            "text/html": [
              "560"
            ],
            "text/markdown": "560",
            "text/latex": "560",
            "text/plain": [
              "[1] 560"
            ]
          },
          "metadata": {}
        }
      ]
    },
    {
      "cell_type": "code",
      "source": [
        "#samples with Porphyromonas gingivalis (transient resident of the blood microbiome)\n",
        "stat_table %>% filter(grepl(\"Porphyromonas gingivalis\", name)) %>% nrow()"
      ],
      "metadata": {
        "colab": {
          "base_uri": "https://localhost:8080/",
          "height": 34
        },
        "id": "jvcyMGbevAyq",
        "outputId": "9cb0cec0-61c3-45bd-f6ed-27bff6574080"
      },
      "execution_count": 24,
      "outputs": [
        {
          "output_type": "display_data",
          "data": {
            "text/html": [
              "14"
            ],
            "text/markdown": "14",
            "text/latex": "14",
            "text/plain": [
              "[1] 14"
            ]
          },
          "metadata": {}
        }
      ]
    },
    {
      "cell_type": "code",
      "source": [
        "sra_table <- read_csv(\"https://github.com/leonfrench/BIODEP_CRP/raw/refs/heads/main/data/SraRunTable.csv\")"
      ],
      "metadata": {
        "colab": {
          "base_uri": "https://localhost:8080/"
        },
        "id": "o4UspVZfvWQg",
        "outputId": "1bfabdf9-e793-4597-dd2c-0538508639b5"
      },
      "execution_count": 6,
      "outputs": [
        {
          "output_type": "stream",
          "name": "stderr",
          "text": [
            "\u001b[1mRows: \u001b[22m\u001b[34m560\u001b[39m \u001b[1mColumns: \u001b[22m\u001b[34m43\u001b[39m\n",
            "\u001b[36m──\u001b[39m \u001b[1mColumn specification\u001b[22m \u001b[36m────────────────────────────────────────────────────────\u001b[39m\n",
            "\u001b[1mDelimiter:\u001b[22m \",\"\n",
            "\u001b[31mchr\u001b[39m  (33): Run, Assay Type, batch, BioProject, BioSample, Center Name, commo...\n",
            "\u001b[32mdbl\u001b[39m   (5): AvgSpotLen, Bases, Bytes, collection_date, version\n",
            "\u001b[34mdttm\u001b[39m  (2): ReleaseDate, create_date\n",
            "\u001b[34mdate\u001b[39m  (3): ENA-FIRST-PUBLIC (run), ENA_first_public, ENA-LAST-UPDATE (run)\n",
            "\n",
            "\u001b[36mℹ\u001b[39m Use `spec()` to retrieve the full column specification for this data.\n",
            "\u001b[36mℹ\u001b[39m Specify the column types or set `show_col_types = FALSE` to quiet this message.\n"
          ]
        }
      ]
    },
    {
      "cell_type": "code",
      "source": [
        "sra_table %>% pull(BioSample) %>% unique() %>% length()\n"
      ],
      "metadata": {
        "colab": {
          "base_uri": "https://localhost:8080/",
          "height": 34
        },
        "id": "0YkHBXPuwlvA",
        "outputId": "f595a7b6-b7d6-490a-d20a-7a3304fef346"
      },
      "execution_count": 7,
      "outputs": [
        {
          "output_type": "display_data",
          "data": {
            "text/html": [
              "560"
            ],
            "text/markdown": "560",
            "text/latex": "560",
            "text/plain": [
              "[1] 560"
            ]
          },
          "metadata": {}
        }
      ]
    },
    {
      "cell_type": "code",
      "source": [
        "target_cols <- c('Bases','batch','collection_date','diagnosis','Experiment','sample_name','treatment_outcome','crp')"
      ],
      "metadata": {
        "id": "uoAcSJP2w-Ho"
      },
      "execution_count": 8,
      "outputs": []
    },
    {
      "cell_type": "code",
      "source": [
        "sra_table %<>% select(acc = Run, all_of(target_cols))\n",
        "full_table <- inner_join(sra_table, stat_table)\n",
        "\n",
        "full_table %<>% mutate(crp = as.numeric(gsub(\"\\\\\\\\,\", \".\", crp)))\n",
        "full_table %<>% mutate(biosample = gsub(\"_L[^_]*$\", \"\", sample_name))\n"
      ],
      "metadata": {
        "colab": {
          "base_uri": "https://localhost:8080/"
        },
        "id": "yyZ_uNYExSJ3",
        "outputId": "f622b296-5d7d-43e6-9baf-cb0bfc5a0443"
      },
      "execution_count": 9,
      "outputs": [
        {
          "output_type": "stream",
          "name": "stderr",
          "text": [
            "\u001b[1m\u001b[22mJoining with `by = join_by(acc)`\n"
          ]
        }
      ]
    },
    {
      "cell_type": "code",
      "source": [
        "full_table %<>% filter(!is.na(crp))"
      ],
      "metadata": {
        "id": "IwJ6588QxaoL"
      },
      "execution_count": 10,
      "outputs": []
    },
    {
      "cell_type": "code",
      "source": [
        "#should be 168 individuals\n",
        "full_table %>% pull(sample_name) %>% unique() %>% length()\n",
        "full_table %>% pull(biosample) %>% unique() %>% length()"
      ],
      "metadata": {
        "colab": {
          "base_uri": "https://localhost:8080/",
          "height": 52
        },
        "id": "utsAFzRGxehs",
        "outputId": "0a9d319e-c16a-4f52-e393-0b921af95917"
      },
      "execution_count": 11,
      "outputs": [
        {
          "output_type": "display_data",
          "data": {
            "text/html": [
              "556"
            ],
            "text/markdown": "556",
            "text/latex": "556",
            "text/plain": [
              "[1] 556"
            ]
          },
          "metadata": {}
        },
        {
          "output_type": "display_data",
          "data": {
            "text/html": [
              "139"
            ],
            "text/markdown": "139",
            "text/latex": "139",
            "text/plain": [
              "[1] 139"
            ]
          },
          "metadata": {}
        }
      ]
    },
    {
      "cell_type": "code",
      "source": [
        "#105 with MDD and 34 controls\n",
        "full_table %>% select(biosample, diagnosis) %>% distinct() %>% group_by(diagnosis) %>% count()"
      ],
      "metadata": {
        "colab": {
          "base_uri": "https://localhost:8080/",
          "height": 161
        },
        "id": "9LJ6wDd0xihv",
        "outputId": "bf663bb6-c95f-4e91-abc2-f5bb69ac31e0"
      },
      "execution_count": 12,
      "outputs": [
        {
          "output_type": "display_data",
          "data": {
            "text/html": [
              "<table class=\"dataframe\">\n",
              "<caption>A grouped_df: 2 × 2</caption>\n",
              "<thead>\n",
              "\t<tr><th scope=col>diagnosis</th><th scope=col>n</th></tr>\n",
              "\t<tr><th scope=col>&lt;chr&gt;</th><th scope=col>&lt;int&gt;</th></tr>\n",
              "</thead>\n",
              "<tbody>\n",
              "\t<tr><td>HC </td><td> 34</td></tr>\n",
              "\t<tr><td>MDD</td><td>105</td></tr>\n",
              "</tbody>\n",
              "</table>\n"
            ],
            "text/markdown": "\nA grouped_df: 2 × 2\n\n| diagnosis &lt;chr&gt; | n &lt;int&gt; |\n|---|---|\n| HC  |  34 |\n| MDD | 105 |\n\n",
            "text/latex": "A grouped\\_df: 2 × 2\n\\begin{tabular}{ll}\n diagnosis & n\\\\\n <chr> & <int>\\\\\n\\hline\n\t HC  &  34\\\\\n\t MDD & 105\\\\\n\\end{tabular}\n",
            "text/plain": [
              "  diagnosis n  \n",
              "1 HC         34\n",
              "2 MDD       105"
            ]
          },
          "metadata": {}
        }
      ]
    },
    {
      "cell_type": "code",
      "source": [
        "#samples with Porphyromonas gingivalis (transient resident of the blood microbiome)\n",
        "full_table %>% filter(name == \"Porphyromonas gingivalis\") %>% pull(biosample) %>% unique() %>% length()"
      ],
      "metadata": {
        "colab": {
          "base_uri": "https://localhost:8080/",
          "height": 34
        },
        "id": "LOulBaRV8H7x",
        "outputId": "86af1168-e96a-4035-df24-9723fe00bdc0"
      },
      "execution_count": 31,
      "outputs": [
        {
          "output_type": "display_data",
          "data": {
            "text/html": [
              "11"
            ],
            "text/markdown": "11",
            "text/latex": "11",
            "text/plain": [
              "[1] 11"
            ]
          },
          "metadata": {}
        }
      ]
    },
    {
      "cell_type": "code",
      "source": [
        "sample_counts <- full_table %>% select(biosample, all_of(target_cols)) %>% distinct() %>%\n",
        "  group_by(across(all_of(c(\"biosample\", \"batch\", \"diagnosis\", \"crp\" )))) %>%\n",
        "  summarize(n = n(), Bases = sum(Bases))\n",
        "sample_counts %<>% rename(run_count = n)"
      ],
      "metadata": {
        "colab": {
          "base_uri": "https://localhost:8080/"
        },
        "id": "Ut-yOKb8ydgx",
        "outputId": "1681c426-746e-44fc-d83e-342f88c58465"
      },
      "execution_count": 13,
      "outputs": [
        {
          "output_type": "stream",
          "name": "stderr",
          "text": [
            "\u001b[1m\u001b[22m`summarise()` has grouped output by 'biosample', 'batch', 'diagnosis'. You can\n",
            "override using the `.groups` argument.\n"
          ]
        }
      ]
    },
    {
      "cell_type": "code",
      "source": [
        "sample_counts %>% head()"
      ],
      "metadata": {
        "colab": {
          "base_uri": "https://localhost:8080/",
          "height": 286
        },
        "id": "xGKdlRY_zP74",
        "outputId": "2e1ce9dd-ec68-4674-e5af-83b3b6c9364d"
      },
      "execution_count": 14,
      "outputs": [
        {
          "output_type": "display_data",
          "data": {
            "text/html": [
              "<table class=\"dataframe\">\n",
              "<caption>A grouped_df: 6 × 6</caption>\n",
              "<thead>\n",
              "\t<tr><th scope=col>biosample</th><th scope=col>batch</th><th scope=col>diagnosis</th><th scope=col>crp</th><th scope=col>run_count</th><th scope=col>Bases</th></tr>\n",
              "\t<tr><th scope=col>&lt;chr&gt;</th><th scope=col>&lt;chr&gt;</th><th scope=col>&lt;chr&gt;</th><th scope=col>&lt;dbl&gt;</th><th scope=col>&lt;int&gt;</th><th scope=col>&lt;dbl&gt;</th></tr>\n",
              "</thead>\n",
              "<tbody>\n",
              "\t<tr><td>101_S2</td><td>Batch8</td><td>MDD</td><td>0.2</td><td>4</td><td>3073469866</td></tr>\n",
              "\t<tr><td>102_S3</td><td>Batch8</td><td>MDD</td><td>9.4</td><td>4</td><td>3041203169</td></tr>\n",
              "\t<tr><td>103_S4</td><td>Batch8</td><td>MDD</td><td>3.9</td><td>4</td><td>2946558970</td></tr>\n",
              "\t<tr><td>104_S5</td><td>Batch8</td><td>HC </td><td>1.7</td><td>4</td><td>2709224619</td></tr>\n",
              "\t<tr><td>105_S6</td><td>Batch8</td><td>HC </td><td>0.4</td><td>4</td><td>3354212144</td></tr>\n",
              "\t<tr><td>106_S7</td><td>Batch8</td><td>MDD</td><td>4.0</td><td>4</td><td>2645873905</td></tr>\n",
              "</tbody>\n",
              "</table>\n"
            ],
            "text/markdown": "\nA grouped_df: 6 × 6\n\n| biosample &lt;chr&gt; | batch &lt;chr&gt; | diagnosis &lt;chr&gt; | crp &lt;dbl&gt; | run_count &lt;int&gt; | Bases &lt;dbl&gt; |\n|---|---|---|---|---|---|\n| 101_S2 | Batch8 | MDD | 0.2 | 4 | 3073469866 |\n| 102_S3 | Batch8 | MDD | 9.4 | 4 | 3041203169 |\n| 103_S4 | Batch8 | MDD | 3.9 | 4 | 2946558970 |\n| 104_S5 | Batch8 | HC  | 1.7 | 4 | 2709224619 |\n| 105_S6 | Batch8 | HC  | 0.4 | 4 | 3354212144 |\n| 106_S7 | Batch8 | MDD | 4.0 | 4 | 2645873905 |\n\n",
            "text/latex": "A grouped\\_df: 6 × 6\n\\begin{tabular}{llllll}\n biosample & batch & diagnosis & crp & run\\_count & Bases\\\\\n <chr> & <chr> & <chr> & <dbl> & <int> & <dbl>\\\\\n\\hline\n\t 101\\_S2 & Batch8 & MDD & 0.2 & 4 & 3073469866\\\\\n\t 102\\_S3 & Batch8 & MDD & 9.4 & 4 & 3041203169\\\\\n\t 103\\_S4 & Batch8 & MDD & 3.9 & 4 & 2946558970\\\\\n\t 104\\_S5 & Batch8 & HC  & 1.7 & 4 & 2709224619\\\\\n\t 105\\_S6 & Batch8 & HC  & 0.4 & 4 & 3354212144\\\\\n\t 106\\_S7 & Batch8 & MDD & 4.0 & 4 & 2645873905\\\\\n\\end{tabular}\n",
            "text/plain": [
              "  biosample batch  diagnosis crp run_count Bases     \n",
              "1 101_S2    Batch8 MDD       0.2 4         3073469866\n",
              "2 102_S3    Batch8 MDD       9.4 4         3041203169\n",
              "3 103_S4    Batch8 MDD       3.9 4         2946558970\n",
              "4 104_S5    Batch8 HC        1.7 4         2709224619\n",
              "5 105_S6    Batch8 HC        0.4 4         3354212144\n",
              "6 106_S7    Batch8 MDD       4.0 4         2645873905"
            ]
          },
          "metadata": {}
        }
      ]
    },
    {
      "cell_type": "code",
      "source": [
        "#test for an association between number of organisms detected and the factors\n",
        "for_lm <- inner_join(sample_counts, full_table %>% group_by(across(all_of(c(\"biosample\", \"batch\", \"diagnosis\", \"crp\")))) %>% count())\n",
        "for_lm %<>% mutate(detect_per_base = n/Bases*1000000000) %>% arrange(detect_per_base)"
      ],
      "metadata": {
        "colab": {
          "base_uri": "https://localhost:8080/"
        },
        "id": "k6OLnaZhyiOj",
        "outputId": "85c88c50-761b-499c-ea00-1beb1e7b5892"
      },
      "execution_count": 15,
      "outputs": [
        {
          "output_type": "stream",
          "name": "stderr",
          "text": [
            "\u001b[1m\u001b[22mJoining with `by = join_by(biosample, batch, diagnosis, crp)`\n"
          ]
        }
      ]
    },
    {
      "cell_type": "code",
      "source": [
        "summary(lm(data = for_lm, detect_per_base ~ Bases + batch + diagnosis + crp))"
      ],
      "metadata": {
        "colab": {
          "base_uri": "https://localhost:8080/",
          "height": 553
        },
        "id": "UrVkh0R2zq4i",
        "outputId": "8552d5ca-cc90-4d35-ef37-f9e3b817640a"
      },
      "execution_count": 16,
      "outputs": [
        {
          "output_type": "display_data",
          "data": {
            "text/plain": [
              "\n",
              "Call:\n",
              "lm(formula = detect_per_base ~ Bases + batch + diagnosis + crp, \n",
              "    data = for_lm)\n",
              "\n",
              "Residuals:\n",
              "    Min      1Q  Median      3Q     Max \n",
              "-1043.5  -298.2   -95.4   131.2  3444.5 \n",
              "\n",
              "Coefficients:\n",
              "               Estimate Std. Error t value Pr(>|t|)    \n",
              "(Intercept)   2.090e+03  2.868e+02   7.286 3.08e-11 ***\n",
              "Bases        -4.252e-07  7.034e-08  -6.045 1.58e-08 ***\n",
              "batchBatch10  5.553e+02  2.270e+02   2.446   0.0158 *  \n",
              "batchBatch2   1.478e+02  2.288e+02   0.646   0.5196    \n",
              "batchBatch3   1.189e+03  2.248e+02   5.290 5.24e-07 ***\n",
              "batchBatch4   4.460e+02  2.251e+02   1.982   0.0497 *  \n",
              "batchBatch5   3.784e+02  2.257e+02   1.677   0.0960 .  \n",
              "batchBatch6   1.273e+02  2.242e+02   0.568   0.5712    \n",
              "batchBatch7   2.753e+02  2.244e+02   1.227   0.2221    \n",
              "batchBatch8   4.713e+01  2.305e+02   0.204   0.8383    \n",
              "batchBatch9   5.215e+02  2.265e+02   2.302   0.0229 *  \n",
              "diagnosisMDD  4.488e+01  1.230e+02   0.365   0.7159    \n",
              "crp          -1.308e+01  2.321e+01  -0.563   0.5742    \n",
              "---\n",
              "Signif. codes:  0 ‘***’ 0.001 ‘**’ 0.01 ‘*’ 0.05 ‘.’ 0.1 ‘ ’ 1\n",
              "\n",
              "Residual standard error: 588.3 on 126 degrees of freedom\n",
              "Multiple R-squared:  0.3914,\tAdjusted R-squared:  0.3334 \n",
              "F-statistic: 6.752 on 12 and 126 DF,  p-value: 2.818e-09\n"
            ]
          },
          "metadata": {}
        }
      ]
    },
    {
      "cell_type": "code",
      "source": [
        "summary(lm(data = for_lm, n ~ Bases + batch + diagnosis + crp))"
      ],
      "metadata": {
        "colab": {
          "base_uri": "https://localhost:8080/",
          "height": 535
        },
        "id": "q2hnf1Y0z50v",
        "outputId": "2467230c-0639-4bb6-8679-5a0f69e5aa6e"
      },
      "execution_count": 17,
      "outputs": [
        {
          "output_type": "display_data",
          "data": {
            "text/plain": [
              "\n",
              "Call:\n",
              "lm(formula = n ~ Bases + batch + diagnosis + crp, data = for_lm)\n",
              "\n",
              "Residuals:\n",
              "    Min      1Q  Median      3Q     Max \n",
              "-2165.0  -668.1  -271.7   331.1  7090.1 \n",
              "\n",
              "Coefficients:\n",
              "               Estimate Std. Error t value Pr(>|t|)    \n",
              "(Intercept)   1.321e+03  7.082e+02   1.865  0.06450 .  \n",
              "Bases         2.723e-07  1.737e-07   1.568  0.11950    \n",
              "batchBatch10  1.244e+03  5.605e+02   2.219  0.02828 *  \n",
              "batchBatch2   2.578e+02  5.651e+02   0.456  0.64900    \n",
              "batchBatch3   2.656e+03  5.551e+02   4.785  4.7e-06 ***\n",
              "batchBatch4   1.602e+03  5.558e+02   2.882  0.00464 ** \n",
              "batchBatch5   1.337e+03  5.573e+02   2.399  0.01790 *  \n",
              "batchBatch6   5.868e+02  5.537e+02   1.060  0.29129    \n",
              "batchBatch7   1.194e+03  5.541e+02   2.156  0.03302 *  \n",
              "batchBatch8   6.219e+02  5.693e+02   1.092  0.27676    \n",
              "batchBatch9   1.609e+03  5.593e+02   2.878  0.00471 ** \n",
              "diagnosisMDD -5.403e+00  3.038e+02  -0.018  0.98584    \n",
              "crp           9.924e+00  5.731e+01   0.173  0.86281    \n",
              "---\n",
              "Signif. codes:  0 ‘***’ 0.001 ‘**’ 0.01 ‘*’ 0.05 ‘.’ 0.1 ‘ ’ 1\n",
              "\n",
              "Residual standard error: 1453 on 126 degrees of freedom\n",
              "Multiple R-squared:  0.236,\tAdjusted R-squared:  0.1632 \n",
              "F-statistic: 3.243 on 12 and 126 DF,  p-value: 0.0004317\n"
            ]
          },
          "metadata": {}
        }
      ]
    },
    {
      "cell_type": "code",
      "source": [],
      "metadata": {
        "id": "3dy6F9Ja1VE6"
      },
      "execution_count": 19,
      "outputs": []
    },
    {
      "cell_type": "code",
      "source": [],
      "metadata": {
        "id": "PjCqYLpS1hk2"
      },
      "execution_count": null,
      "outputs": []
    },
    {
      "cell_type": "code",
      "source": [],
      "metadata": {
        "id": "Lq_T-iwd3LFN"
      },
      "execution_count": null,
      "outputs": []
    },
    {
      "cell_type": "code",
      "source": [
        "# -------------------------------------------------------------------------------\n",
        "# Create `combined_results` summarizing per‑species abundance and modeling stats.\n",
        "# For each unique microbial species (“name”) in `full_table`:\n",
        "#   1. Aggregate read counts per biosample.\n",
        "#   2. Join with `sample_counts` to add total sequenced bases and other metadata.\n",
        "#   3. Replace missing counts with zero and compute a bases‑normalized metric.\n",
        "#   4. Fit a linear model (total_count ~ Bases + batch + diagnosis + crp).\n",
        "#   5. Record adjusted R², term‑specific p‑values, detection frequency, and the\n",
        "#      sum of counts for the species.\n",
        "# Output: `combined_results`, one row per species with model statistics.\n",
        "# -------------------------------------------------------------------------------\n",
        "\n",
        "combined_results <- tibble()\n",
        "\n",
        "for (target_species in unique(full_table$name)) {\n",
        "\n",
        "  species_data <- full_table %>%\n",
        "    filter(name == target_species) %>%\n",
        "    select(biosample, total_count) %>%\n",
        "    group_by(biosample) %>%\n",
        "    summarise(total_count = sum(total_count), .groups = \"drop\") %>%\n",
        "    right_join(sample_counts, by = join_by(biosample)) %>%\n",
        "    mutate(\n",
        "      total_count     = replace_na(total_count, 0),\n",
        "      base_normalized = total_count / Bases * 1e9\n",
        "    )\n",
        "\n",
        "  model <- summary(lm(total_count ~ Bases + batch + diagnosis + crp, species_data))\n",
        "\n",
        "  single_row <- tibble(\n",
        "    target_species = target_species,\n",
        "    modelr2        = model$adj.r.squared,\n",
        "    detections     = species_data %>% filter(total_count != 0) %>% nrow(),\n",
        "    sum_counts     = sum(species_data$total_count)\n",
        "  ) %>%\n",
        "    bind_cols(\n",
        "      broom::tidy(model) %>%\n",
        "        select(term, p.value) %>%\n",
        "        pivot_wider(names_from = term, values_from = p.value)\n",
        "    )\n",
        "\n",
        "  combined_results <- bind_rows(combined_results, single_row)\n",
        "\n",
        "  if (nrow(combined_results) %% 500 == 0) {\n",
        "    message(sprintf(\"Processed %d / %d organisms\",\n",
        "    nrow(combined_results), unique(full_table %>% pull(name)) %>% length()))\n",
        "  }\n",
        "}"
      ],
      "metadata": {
        "colab": {
          "base_uri": "https://localhost:8080/"
        },
        "id": "0THlZpLi0m4v",
        "outputId": "94873996-90b3-42eb-d8bc-c5550c5d866f"
      },
      "execution_count": 32,
      "outputs": [
        {
          "output_type": "stream",
          "name": "stderr",
          "text": [
            "Processed 500 / 16198 organisms\n",
            "\n",
            "Processed 1000 / 16198 organisms\n",
            "\n",
            "Processed 1500 / 16198 organisms\n",
            "\n",
            "Processed 2000 / 16198 organisms\n",
            "\n",
            "Processed 2500 / 16198 organisms\n",
            "\n",
            "Processed 3000 / 16198 organisms\n",
            "\n",
            "Processed 3500 / 16198 organisms\n",
            "\n",
            "Processed 4000 / 16198 organisms\n",
            "\n",
            "Processed 4500 / 16198 organisms\n",
            "\n",
            "Processed 5000 / 16198 organisms\n",
            "\n",
            "Processed 5500 / 16198 organisms\n",
            "\n",
            "Processed 6000 / 16198 organisms\n",
            "\n",
            "Processed 6500 / 16198 organisms\n",
            "\n",
            "Processed 7000 / 16198 organisms\n",
            "\n",
            "Processed 7500 / 16198 organisms\n",
            "\n",
            "Processed 8000 / 16198 organisms\n",
            "\n",
            "Processed 8500 / 16198 organisms\n",
            "\n",
            "Processed 9000 / 16198 organisms\n",
            "\n",
            "Processed 9500 / 16198 organisms\n",
            "\n",
            "Processed 10000 / 16198 organisms\n",
            "\n",
            "Processed 10500 / 16198 organisms\n",
            "\n",
            "Processed 11000 / 16198 organisms\n",
            "\n",
            "Processed 11500 / 16198 organisms\n",
            "\n",
            "Processed 12000 / 16198 organisms\n",
            "\n",
            "Processed 12500 / 16198 organisms\n",
            "\n",
            "Processed 13000 / 16198 organisms\n",
            "\n",
            "Processed 13500 / 16198 organisms\n",
            "\n",
            "Processed 14000 / 16198 organisms\n",
            "\n",
            "Processed 14500 / 16198 organisms\n",
            "\n",
            "Processed 15000 / 16198 organisms\n",
            "\n",
            "Processed 15500 / 16198 organisms\n",
            "\n",
            "Processed 16000 / 16198 organisms\n",
            "\n"
          ]
        }
      ]
    },
    {
      "cell_type": "code",
      "source": [
        "combined_results %>% arrange(`crp`) %>% head(20) %>% select(target_species, detections, sum_counts, crp, diagnosisMDD)"
      ],
      "metadata": {
        "colab": {
          "base_uri": "https://localhost:8080/",
          "height": 725
        },
        "id": "GAg8J2Y135eJ",
        "outputId": "af8c3074-0ccb-49d7-99e3-c5780118f57e"
      },
      "execution_count": 33,
      "outputs": [
        {
          "output_type": "display_data",
          "data": {
            "text/html": [
              "<table class=\"dataframe\">\n",
              "<caption>A tibble: 20 × 5</caption>\n",
              "<thead>\n",
              "\t<tr><th scope=col>target_species</th><th scope=col>detections</th><th scope=col>sum_counts</th><th scope=col>crp</th><th scope=col>diagnosisMDD</th></tr>\n",
              "\t<tr><th scope=col>&lt;chr&gt;</th><th scope=col>&lt;int&gt;</th><th scope=col>&lt;dbl&gt;</th><th scope=col>&lt;dbl&gt;</th><th scope=col>&lt;dbl&gt;</th></tr>\n",
              "</thead>\n",
              "<tbody>\n",
              "\t<tr><td>Thiopseudomonas denitrificans       </td><td> 6</td><td> 14</td><td>6.074448e-07</td><td>0.9218365</td></tr>\n",
              "\t<tr><td>Myoviridae sp. ctVKV3               </td><td> 2</td><td>  2</td><td>1.349563e-05</td><td>0.8858679</td></tr>\n",
              "\t<tr><td>Mycolicibacterium bacteremicum      </td><td> 2</td><td>  3</td><td>1.676431e-05</td><td>0.8768499</td></tr>\n",
              "\t<tr><td>Aspergillus subgen. Aspergillus     </td><td> 2</td><td>  3</td><td>1.676431e-05</td><td>0.8768499</td></tr>\n",
              "\t<tr><td>Aspergillus chevalieri              </td><td> 2</td><td>  3</td><td>1.676431e-05</td><td>0.8768499</td></tr>\n",
              "\t<tr><td>Haemophilus sputorum                </td><td>30</td><td>590</td><td>2.702328e-05</td><td>0.9880077</td></tr>\n",
              "\t<tr><td>Fusobacterium polymorphum ATCC 10953</td><td> 4</td><td>  6</td><td>2.804419e-05</td><td>0.5273935</td></tr>\n",
              "\t<tr><td>Microbacterium hibisci              </td><td> 4</td><td>  4</td><td>4.662722e-05</td><td>0.9173514</td></tr>\n",
              "\t<tr><td>Streptococcus oralis                </td><td>88</td><td>584</td><td>5.020735e-05</td><td>0.9754413</td></tr>\n",
              "\t<tr><td>Streptococcus mitis                 </td><td>52</td><td>746</td><td>6.364871e-05</td><td>0.7997646</td></tr>\n",
              "\t<tr><td>Subtercola frigoramans              </td><td> 2</td><td>  2</td><td>6.653145e-05</td><td>0.7816146</td></tr>\n",
              "\t<tr><td>Caldimonas caldifontis              </td><td> 9</td><td> 15</td><td>6.688776e-05</td><td>0.5149963</td></tr>\n",
              "\t<tr><td>Raoultella terrigena                </td><td> 4</td><td>  6</td><td>6.811583e-05</td><td>0.9829492</td></tr>\n",
              "\t<tr><td>uncultured Faecalibacterium sp.     </td><td> 2</td><td>  3</td><td>7.563759e-05</td><td>0.7828104</td></tr>\n",
              "\t<tr><td>Thiopseudomonas                     </td><td>27</td><td> 69</td><td>8.517735e-05</td><td>0.8370348</td></tr>\n",
              "\t<tr><td>Natronincolaceae                    </td><td> 7</td><td>  9</td><td>9.495668e-05</td><td>0.8824835</td></tr>\n",
              "\t<tr><td>Cichorioideae                       </td><td>11</td><td> 66</td><td>9.894386e-05</td><td>0.4218237</td></tr>\n",
              "\t<tr><td>Cichorieae                          </td><td>11</td><td> 66</td><td>9.894386e-05</td><td>0.4218237</td></tr>\n",
              "\t<tr><td>Lactuca                             </td><td>11</td><td> 66</td><td>9.894386e-05</td><td>0.4218237</td></tr>\n",
              "\t<tr><td>Lactucinae                          </td><td>11</td><td> 66</td><td>9.894386e-05</td><td>0.4218237</td></tr>\n",
              "</tbody>\n",
              "</table>\n"
            ],
            "text/markdown": "\nA tibble: 20 × 5\n\n| target_species &lt;chr&gt; | detections &lt;int&gt; | sum_counts &lt;dbl&gt; | crp &lt;dbl&gt; | diagnosisMDD &lt;dbl&gt; |\n|---|---|---|---|---|\n| Thiopseudomonas denitrificans        |  6 |  14 | 6.074448e-07 | 0.9218365 |\n| Myoviridae sp. ctVKV3                |  2 |   2 | 1.349563e-05 | 0.8858679 |\n| Mycolicibacterium bacteremicum       |  2 |   3 | 1.676431e-05 | 0.8768499 |\n| Aspergillus subgen. Aspergillus      |  2 |   3 | 1.676431e-05 | 0.8768499 |\n| Aspergillus chevalieri               |  2 |   3 | 1.676431e-05 | 0.8768499 |\n| Haemophilus sputorum                 | 30 | 590 | 2.702328e-05 | 0.9880077 |\n| Fusobacterium polymorphum ATCC 10953 |  4 |   6 | 2.804419e-05 | 0.5273935 |\n| Microbacterium hibisci               |  4 |   4 | 4.662722e-05 | 0.9173514 |\n| Streptococcus oralis                 | 88 | 584 | 5.020735e-05 | 0.9754413 |\n| Streptococcus mitis                  | 52 | 746 | 6.364871e-05 | 0.7997646 |\n| Subtercola frigoramans               |  2 |   2 | 6.653145e-05 | 0.7816146 |\n| Caldimonas caldifontis               |  9 |  15 | 6.688776e-05 | 0.5149963 |\n| Raoultella terrigena                 |  4 |   6 | 6.811583e-05 | 0.9829492 |\n| uncultured Faecalibacterium sp.      |  2 |   3 | 7.563759e-05 | 0.7828104 |\n| Thiopseudomonas                      | 27 |  69 | 8.517735e-05 | 0.8370348 |\n| Natronincolaceae                     |  7 |   9 | 9.495668e-05 | 0.8824835 |\n| Cichorioideae                        | 11 |  66 | 9.894386e-05 | 0.4218237 |\n| Cichorieae                           | 11 |  66 | 9.894386e-05 | 0.4218237 |\n| Lactuca                              | 11 |  66 | 9.894386e-05 | 0.4218237 |\n| Lactucinae                           | 11 |  66 | 9.894386e-05 | 0.4218237 |\n\n",
            "text/latex": "A tibble: 20 × 5\n\\begin{tabular}{lllll}\n target\\_species & detections & sum\\_counts & crp & diagnosisMDD\\\\\n <chr> & <int> & <dbl> & <dbl> & <dbl>\\\\\n\\hline\n\t Thiopseudomonas denitrificans        &  6 &  14 & 6.074448e-07 & 0.9218365\\\\\n\t Myoviridae sp. ctVKV3                &  2 &   2 & 1.349563e-05 & 0.8858679\\\\\n\t Mycolicibacterium bacteremicum       &  2 &   3 & 1.676431e-05 & 0.8768499\\\\\n\t Aspergillus subgen. Aspergillus      &  2 &   3 & 1.676431e-05 & 0.8768499\\\\\n\t Aspergillus chevalieri               &  2 &   3 & 1.676431e-05 & 0.8768499\\\\\n\t Haemophilus sputorum                 & 30 & 590 & 2.702328e-05 & 0.9880077\\\\\n\t Fusobacterium polymorphum ATCC 10953 &  4 &   6 & 2.804419e-05 & 0.5273935\\\\\n\t Microbacterium hibisci               &  4 &   4 & 4.662722e-05 & 0.9173514\\\\\n\t Streptococcus oralis                 & 88 & 584 & 5.020735e-05 & 0.9754413\\\\\n\t Streptococcus mitis                  & 52 & 746 & 6.364871e-05 & 0.7997646\\\\\n\t Subtercola frigoramans               &  2 &   2 & 6.653145e-05 & 0.7816146\\\\\n\t Caldimonas caldifontis               &  9 &  15 & 6.688776e-05 & 0.5149963\\\\\n\t Raoultella terrigena                 &  4 &   6 & 6.811583e-05 & 0.9829492\\\\\n\t uncultured Faecalibacterium sp.      &  2 &   3 & 7.563759e-05 & 0.7828104\\\\\n\t Thiopseudomonas                      & 27 &  69 & 8.517735e-05 & 0.8370348\\\\\n\t Natronincolaceae                     &  7 &   9 & 9.495668e-05 & 0.8824835\\\\\n\t Cichorioideae                        & 11 &  66 & 9.894386e-05 & 0.4218237\\\\\n\t Cichorieae                           & 11 &  66 & 9.894386e-05 & 0.4218237\\\\\n\t Lactuca                              & 11 &  66 & 9.894386e-05 & 0.4218237\\\\\n\t Lactucinae                           & 11 &  66 & 9.894386e-05 & 0.4218237\\\\\n\\end{tabular}\n",
            "text/plain": [
              "   target_species                       detections sum_counts crp         \n",
              "1  Thiopseudomonas denitrificans         6          14        6.074448e-07\n",
              "2  Myoviridae sp. ctVKV3                 2           2        1.349563e-05\n",
              "3  Mycolicibacterium bacteremicum        2           3        1.676431e-05\n",
              "4  Aspergillus subgen. Aspergillus       2           3        1.676431e-05\n",
              "5  Aspergillus chevalieri                2           3        1.676431e-05\n",
              "6  Haemophilus sputorum                 30         590        2.702328e-05\n",
              "7  Fusobacterium polymorphum ATCC 10953  4           6        2.804419e-05\n",
              "8  Microbacterium hibisci                4           4        4.662722e-05\n",
              "9  Streptococcus oralis                 88         584        5.020735e-05\n",
              "10 Streptococcus mitis                  52         746        6.364871e-05\n",
              "11 Subtercola frigoramans                2           2        6.653145e-05\n",
              "12 Caldimonas caldifontis                9          15        6.688776e-05\n",
              "13 Raoultella terrigena                  4           6        6.811583e-05\n",
              "14 uncultured Faecalibacterium sp.       2           3        7.563759e-05\n",
              "15 Thiopseudomonas                      27          69        8.517735e-05\n",
              "16 Natronincolaceae                      7           9        9.495668e-05\n",
              "17 Cichorioideae                        11          66        9.894386e-05\n",
              "18 Cichorieae                           11          66        9.894386e-05\n",
              "19 Lactuca                              11          66        9.894386e-05\n",
              "20 Lactucinae                           11          66        9.894386e-05\n",
              "   diagnosisMDD\n",
              "1  0.9218365   \n",
              "2  0.8858679   \n",
              "3  0.8768499   \n",
              "4  0.8768499   \n",
              "5  0.8768499   \n",
              "6  0.9880077   \n",
              "7  0.5273935   \n",
              "8  0.9173514   \n",
              "9  0.9754413   \n",
              "10 0.7997646   \n",
              "11 0.7816146   \n",
              "12 0.5149963   \n",
              "13 0.9829492   \n",
              "14 0.7828104   \n",
              "15 0.8370348   \n",
              "16 0.8824835   \n",
              "17 0.4218237   \n",
              "18 0.4218237   \n",
              "19 0.4218237   \n",
              "20 0.4218237   "
            ]
          },
          "metadata": {}
        }
      ]
    },
    {
      "cell_type": "code",
      "source": [
        "combined_results %>% arrange(`diagnosisMDD`) %>% head(20) %>% select(target_species, detections, sum_counts, crp, diagnosisMDD)"
      ],
      "metadata": {
        "colab": {
          "base_uri": "https://localhost:8080/",
          "height": 725
        },
        "id": "C2Rpa0Jv4Uaa",
        "outputId": "2e2f7608-aee0-4fdd-ea20-7692237e9622"
      },
      "execution_count": 34,
      "outputs": [
        {
          "output_type": "display_data",
          "data": {
            "text/html": [
              "<table class=\"dataframe\">\n",
              "<caption>A tibble: 20 × 5</caption>\n",
              "<thead>\n",
              "\t<tr><th scope=col>target_species</th><th scope=col>detections</th><th scope=col>sum_counts</th><th scope=col>crp</th><th scope=col>diagnosisMDD</th></tr>\n",
              "\t<tr><th scope=col>&lt;chr&gt;</th><th scope=col>&lt;int&gt;</th><th scope=col>&lt;dbl&gt;</th><th scope=col>&lt;dbl&gt;</th><th scope=col>&lt;dbl&gt;</th></tr>\n",
              "</thead>\n",
              "<tbody>\n",
              "\t<tr><td>Nocardioides marmoribigeumensis      </td><td> 33</td><td>169</td><td>0.78563156</td><td>0.0004760352</td></tr>\n",
              "\t<tr><td>Acinetobacter bouvetii               </td><td> 82</td><td>492</td><td>0.50732831</td><td>0.0018301993</td></tr>\n",
              "\t<tr><td>Oceanobacillus iheyensis             </td><td>  3</td><td>  3</td><td>0.89294361</td><td>0.0020533592</td></tr>\n",
              "\t<tr><td>Nairoviridae                         </td><td>110</td><td>449</td><td>0.65887524</td><td>0.0024076389</td></tr>\n",
              "\t<tr><td>Orthonairovirus                      </td><td>110</td><td>449</td><td>0.65887524</td><td>0.0024076389</td></tr>\n",
              "\t<tr><td>Orthonairovirus haemorrhagiae        </td><td>110</td><td>449</td><td>0.65887524</td><td>0.0024076389</td></tr>\n",
              "\t<tr><td>Halpernia                            </td><td> 13</td><td> 31</td><td>0.02460082</td><td>0.0024342913</td></tr>\n",
              "\t<tr><td>Legionella jamestowniensis           </td><td>  3</td><td>  3</td><td>0.86297935</td><td>0.0025720152</td></tr>\n",
              "\t<tr><td>Melghirimyces                        </td><td>  4</td><td>  6</td><td>0.43719710</td><td>0.0027217383</td></tr>\n",
              "\t<tr><td>Sphingobium xanthum                  </td><td>  3</td><td>  3</td><td>0.92430695</td><td>0.0030962096</td></tr>\n",
              "\t<tr><td>Deinococcus peraridilitoris          </td><td>  6</td><td> 15</td><td>0.56508901</td><td>0.0032722874</td></tr>\n",
              "\t<tr><td>Deinococcus peraridilitoris DSM 19664</td><td>  6</td><td> 15</td><td>0.56508901</td><td>0.0032722874</td></tr>\n",
              "\t<tr><td>Actinotignum                         </td><td> 10</td><td> 13</td><td>0.63921131</td><td>0.0032873981</td></tr>\n",
              "\t<tr><td>Deinococcus aluminii                 </td><td>  6</td><td> 10</td><td>0.20328676</td><td>0.0034418327</td></tr>\n",
              "\t<tr><td>Terrimonas ferruginea                </td><td>  4</td><td>  5</td><td>0.98475354</td><td>0.0035492907</td></tr>\n",
              "\t<tr><td>Microvirga lupini                    </td><td>  3</td><td>  3</td><td>0.71175696</td><td>0.0036305976</td></tr>\n",
              "\t<tr><td>Arenimonas soli                      </td><td>  3</td><td>  3</td><td>0.81719643</td><td>0.0037727615</td></tr>\n",
              "\t<tr><td>Paenibacillus yonginensis            </td><td>  5</td><td>  5</td><td>0.94295138</td><td>0.0037827491</td></tr>\n",
              "\t<tr><td>Evansella                            </td><td> 13</td><td> 17</td><td>0.84496399</td><td>0.0039440587</td></tr>\n",
              "\t<tr><td>Cedecea lapagei                      </td><td>  8</td><td> 13</td><td>0.81575897</td><td>0.0050001918</td></tr>\n",
              "</tbody>\n",
              "</table>\n"
            ],
            "text/markdown": "\nA tibble: 20 × 5\n\n| target_species &lt;chr&gt; | detections &lt;int&gt; | sum_counts &lt;dbl&gt; | crp &lt;dbl&gt; | diagnosisMDD &lt;dbl&gt; |\n|---|---|---|---|---|\n| Nocardioides marmoribigeumensis       |  33 | 169 | 0.78563156 | 0.0004760352 |\n| Acinetobacter bouvetii                |  82 | 492 | 0.50732831 | 0.0018301993 |\n| Oceanobacillus iheyensis              |   3 |   3 | 0.89294361 | 0.0020533592 |\n| Nairoviridae                          | 110 | 449 | 0.65887524 | 0.0024076389 |\n| Orthonairovirus                       | 110 | 449 | 0.65887524 | 0.0024076389 |\n| Orthonairovirus haemorrhagiae         | 110 | 449 | 0.65887524 | 0.0024076389 |\n| Halpernia                             |  13 |  31 | 0.02460082 | 0.0024342913 |\n| Legionella jamestowniensis            |   3 |   3 | 0.86297935 | 0.0025720152 |\n| Melghirimyces                         |   4 |   6 | 0.43719710 | 0.0027217383 |\n| Sphingobium xanthum                   |   3 |   3 | 0.92430695 | 0.0030962096 |\n| Deinococcus peraridilitoris           |   6 |  15 | 0.56508901 | 0.0032722874 |\n| Deinococcus peraridilitoris DSM 19664 |   6 |  15 | 0.56508901 | 0.0032722874 |\n| Actinotignum                          |  10 |  13 | 0.63921131 | 0.0032873981 |\n| Deinococcus aluminii                  |   6 |  10 | 0.20328676 | 0.0034418327 |\n| Terrimonas ferruginea                 |   4 |   5 | 0.98475354 | 0.0035492907 |\n| Microvirga lupini                     |   3 |   3 | 0.71175696 | 0.0036305976 |\n| Arenimonas soli                       |   3 |   3 | 0.81719643 | 0.0037727615 |\n| Paenibacillus yonginensis             |   5 |   5 | 0.94295138 | 0.0037827491 |\n| Evansella                             |  13 |  17 | 0.84496399 | 0.0039440587 |\n| Cedecea lapagei                       |   8 |  13 | 0.81575897 | 0.0050001918 |\n\n",
            "text/latex": "A tibble: 20 × 5\n\\begin{tabular}{lllll}\n target\\_species & detections & sum\\_counts & crp & diagnosisMDD\\\\\n <chr> & <int> & <dbl> & <dbl> & <dbl>\\\\\n\\hline\n\t Nocardioides marmoribigeumensis       &  33 & 169 & 0.78563156 & 0.0004760352\\\\\n\t Acinetobacter bouvetii                &  82 & 492 & 0.50732831 & 0.0018301993\\\\\n\t Oceanobacillus iheyensis              &   3 &   3 & 0.89294361 & 0.0020533592\\\\\n\t Nairoviridae                          & 110 & 449 & 0.65887524 & 0.0024076389\\\\\n\t Orthonairovirus                       & 110 & 449 & 0.65887524 & 0.0024076389\\\\\n\t Orthonairovirus haemorrhagiae         & 110 & 449 & 0.65887524 & 0.0024076389\\\\\n\t Halpernia                             &  13 &  31 & 0.02460082 & 0.0024342913\\\\\n\t Legionella jamestowniensis            &   3 &   3 & 0.86297935 & 0.0025720152\\\\\n\t Melghirimyces                         &   4 &   6 & 0.43719710 & 0.0027217383\\\\\n\t Sphingobium xanthum                   &   3 &   3 & 0.92430695 & 0.0030962096\\\\\n\t Deinococcus peraridilitoris           &   6 &  15 & 0.56508901 & 0.0032722874\\\\\n\t Deinococcus peraridilitoris DSM 19664 &   6 &  15 & 0.56508901 & 0.0032722874\\\\\n\t Actinotignum                          &  10 &  13 & 0.63921131 & 0.0032873981\\\\\n\t Deinococcus aluminii                  &   6 &  10 & 0.20328676 & 0.0034418327\\\\\n\t Terrimonas ferruginea                 &   4 &   5 & 0.98475354 & 0.0035492907\\\\\n\t Microvirga lupini                     &   3 &   3 & 0.71175696 & 0.0036305976\\\\\n\t Arenimonas soli                       &   3 &   3 & 0.81719643 & 0.0037727615\\\\\n\t Paenibacillus yonginensis             &   5 &   5 & 0.94295138 & 0.0037827491\\\\\n\t Evansella                             &  13 &  17 & 0.84496399 & 0.0039440587\\\\\n\t Cedecea lapagei                       &   8 &  13 & 0.81575897 & 0.0050001918\\\\\n\\end{tabular}\n",
            "text/plain": [
              "   target_species                        detections sum_counts crp       \n",
              "1  Nocardioides marmoribigeumensis        33        169        0.78563156\n",
              "2  Acinetobacter bouvetii                 82        492        0.50732831\n",
              "3  Oceanobacillus iheyensis                3          3        0.89294361\n",
              "4  Nairoviridae                          110        449        0.65887524\n",
              "5  Orthonairovirus                       110        449        0.65887524\n",
              "6  Orthonairovirus haemorrhagiae         110        449        0.65887524\n",
              "7  Halpernia                              13         31        0.02460082\n",
              "8  Legionella jamestowniensis              3          3        0.86297935\n",
              "9  Melghirimyces                           4          6        0.43719710\n",
              "10 Sphingobium xanthum                     3          3        0.92430695\n",
              "11 Deinococcus peraridilitoris             6         15        0.56508901\n",
              "12 Deinococcus peraridilitoris DSM 19664   6         15        0.56508901\n",
              "13 Actinotignum                           10         13        0.63921131\n",
              "14 Deinococcus aluminii                    6         10        0.20328676\n",
              "15 Terrimonas ferruginea                   4          5        0.98475354\n",
              "16 Microvirga lupini                       3          3        0.71175696\n",
              "17 Arenimonas soli                         3          3        0.81719643\n",
              "18 Paenibacillus yonginensis               5          5        0.94295138\n",
              "19 Evansella                              13         17        0.84496399\n",
              "20 Cedecea lapagei                         8         13        0.81575897\n",
              "   diagnosisMDD\n",
              "1  0.0004760352\n",
              "2  0.0018301993\n",
              "3  0.0020533592\n",
              "4  0.0024076389\n",
              "5  0.0024076389\n",
              "6  0.0024076389\n",
              "7  0.0024342913\n",
              "8  0.0025720152\n",
              "9  0.0027217383\n",
              "10 0.0030962096\n",
              "11 0.0032722874\n",
              "12 0.0032722874\n",
              "13 0.0032873981\n",
              "14 0.0034418327\n",
              "15 0.0035492907\n",
              "16 0.0036305976\n",
              "17 0.0037727615\n",
              "18 0.0037827491\n",
              "19 0.0039440587\n",
              "20 0.0050001918"
            ]
          },
          "metadata": {}
        }
      ]
    },
    {
      "cell_type": "code",
      "source": [
        "combined_results %>% head()\n",
        "colnames(combined_results)\n"
      ],
      "metadata": {
        "id": "Q2Lz2t1q1LA3",
        "colab": {
          "base_uri": "https://localhost:8080/",
          "height": 445
        },
        "outputId": "fa921eb9-2225-4e38-ce1e-b8dd0380e0c5"
      },
      "execution_count": 36,
      "outputs": [
        {
          "output_type": "display_data",
          "data": {
            "text/html": [
              "<table class=\"dataframe\">\n",
              "<caption>A tibble: 6 × 17</caption>\n",
              "<thead>\n",
              "\t<tr><th scope=col>target_species</th><th scope=col>modelr2</th><th scope=col>detections</th><th scope=col>sum_counts</th><th scope=col>(Intercept)</th><th scope=col>Bases</th><th scope=col>batchBatch10</th><th scope=col>batchBatch2</th><th scope=col>batchBatch3</th><th scope=col>batchBatch4</th><th scope=col>batchBatch5</th><th scope=col>batchBatch6</th><th scope=col>batchBatch7</th><th scope=col>batchBatch8</th><th scope=col>batchBatch9</th><th scope=col>diagnosisMDD</th><th scope=col>crp</th></tr>\n",
              "\t<tr><th scope=col>&lt;chr&gt;</th><th scope=col>&lt;dbl&gt;</th><th scope=col>&lt;int&gt;</th><th scope=col>&lt;dbl&gt;</th><th scope=col>&lt;dbl&gt;</th><th scope=col>&lt;dbl&gt;</th><th scope=col>&lt;dbl&gt;</th><th scope=col>&lt;dbl&gt;</th><th scope=col>&lt;dbl&gt;</th><th scope=col>&lt;dbl&gt;</th><th scope=col>&lt;dbl&gt;</th><th scope=col>&lt;dbl&gt;</th><th scope=col>&lt;dbl&gt;</th><th scope=col>&lt;dbl&gt;</th><th scope=col>&lt;dbl&gt;</th><th scope=col>&lt;dbl&gt;</th><th scope=col>&lt;dbl&gt;</th></tr>\n",
              "</thead>\n",
              "<tbody>\n",
              "\t<tr><td>cellular organisms</td><td>0.9983954</td><td>139</td><td>2773867126</td><td>6.413165e-01</td><td>8.269416e-176</td><td>2.171541e-01</td><td>0.1594096</td><td>2.818031e-02</td><td>7.441269e-03</td><td>4.913262e-01</td><td>9.360912e-02</td><td>9.301878e-01</td><td>5.811970e-01</td><td>9.261220e-01</td><td>0.13688588</td><td>0.85833313</td></tr>\n",
              "\t<tr><td>Amniota           </td><td>0.9887740</td><td>139</td><td>2554202563</td><td>6.528207e-01</td><td>7.812851e-123</td><td>8.511117e-01</td><td>0.8066524</td><td>8.966680e-03</td><td>4.197384e-01</td><td>6.842731e-01</td><td>1.373458e-01</td><td>7.736521e-01</td><td>5.067890e-01</td><td>5.751578e-02</td><td>0.95892705</td><td>0.71753879</td></tr>\n",
              "\t<tr><td>Caniformia        </td><td>0.3387111</td><td>139</td><td>     81403</td><td>2.653095e-01</td><td> 4.454264e-09</td><td>5.892502e-01</td><td>0.6166287</td><td>6.033077e-02</td><td>1.158998e-02</td><td>1.675593e-01</td><td>3.953240e-01</td><td>6.105378e-01</td><td>8.145545e-01</td><td>6.319679e-01</td><td>0.68148969</td><td>0.81948676</td></tr>\n",
              "\t<tr><td>Cercopithecidae   </td><td>0.6323060</td><td>139</td><td>   2915938</td><td>7.458141e-01</td><td> 7.611303e-27</td><td>1.975866e-01</td><td>0.1195979</td><td>3.901192e-01</td><td>2.564989e-01</td><td>4.701160e-01</td><td>9.143186e-01</td><td>4.524561e-01</td><td>4.662652e-01</td><td>5.068155e-01</td><td>0.28612572</td><td>0.51826955</td></tr>\n",
              "\t<tr><td>Muridae           </td><td>0.7468732</td><td> 46</td><td>   8516426</td><td>1.171321e-12</td><td> 1.690774e-01</td><td>8.527691e-24</td><td>0.1637200</td><td>4.509626e-17</td><td>3.140207e-22</td><td>6.824605e-22</td><td>2.561578e-23</td><td>9.606248e-23</td><td>1.434091e-21</td><td>6.520249e-23</td><td>0.01636825</td><td>0.07692084</td></tr>\n",
              "\t<tr><td>Mammalia          </td><td>0.9891397</td><td>139</td><td>2521345029</td><td>6.960989e-01</td><td>9.819234e-124</td><td>9.778476e-01</td><td>0.6597712</td><td>4.201310e-03</td><td>3.884398e-01</td><td>5.206467e-01</td><td>1.171887e-01</td><td>8.736807e-01</td><td>5.816381e-01</td><td>4.657483e-02</td><td>0.86421073</td><td>0.68298564</td></tr>\n",
              "</tbody>\n",
              "</table>\n"
            ],
            "text/markdown": "\nA tibble: 6 × 17\n\n| target_species &lt;chr&gt; | modelr2 &lt;dbl&gt; | detections &lt;int&gt; | sum_counts &lt;dbl&gt; | (Intercept) &lt;dbl&gt; | Bases &lt;dbl&gt; | batchBatch10 &lt;dbl&gt; | batchBatch2 &lt;dbl&gt; | batchBatch3 &lt;dbl&gt; | batchBatch4 &lt;dbl&gt; | batchBatch5 &lt;dbl&gt; | batchBatch6 &lt;dbl&gt; | batchBatch7 &lt;dbl&gt; | batchBatch8 &lt;dbl&gt; | batchBatch9 &lt;dbl&gt; | diagnosisMDD &lt;dbl&gt; | crp &lt;dbl&gt; |\n|---|---|---|---|---|---|---|---|---|---|---|---|---|---|---|---|---|\n| cellular organisms | 0.9983954 | 139 | 2773867126 | 6.413165e-01 | 8.269416e-176 | 2.171541e-01 | 0.1594096 | 2.818031e-02 | 7.441269e-03 | 4.913262e-01 | 9.360912e-02 | 9.301878e-01 | 5.811970e-01 | 9.261220e-01 | 0.13688588 | 0.85833313 |\n| Amniota            | 0.9887740 | 139 | 2554202563 | 6.528207e-01 | 7.812851e-123 | 8.511117e-01 | 0.8066524 | 8.966680e-03 | 4.197384e-01 | 6.842731e-01 | 1.373458e-01 | 7.736521e-01 | 5.067890e-01 | 5.751578e-02 | 0.95892705 | 0.71753879 |\n| Caniformia         | 0.3387111 | 139 |      81403 | 2.653095e-01 |  4.454264e-09 | 5.892502e-01 | 0.6166287 | 6.033077e-02 | 1.158998e-02 | 1.675593e-01 | 3.953240e-01 | 6.105378e-01 | 8.145545e-01 | 6.319679e-01 | 0.68148969 | 0.81948676 |\n| Cercopithecidae    | 0.6323060 | 139 |    2915938 | 7.458141e-01 |  7.611303e-27 | 1.975866e-01 | 0.1195979 | 3.901192e-01 | 2.564989e-01 | 4.701160e-01 | 9.143186e-01 | 4.524561e-01 | 4.662652e-01 | 5.068155e-01 | 0.28612572 | 0.51826955 |\n| Muridae            | 0.7468732 |  46 |    8516426 | 1.171321e-12 |  1.690774e-01 | 8.527691e-24 | 0.1637200 | 4.509626e-17 | 3.140207e-22 | 6.824605e-22 | 2.561578e-23 | 9.606248e-23 | 1.434091e-21 | 6.520249e-23 | 0.01636825 | 0.07692084 |\n| Mammalia           | 0.9891397 | 139 | 2521345029 | 6.960989e-01 | 9.819234e-124 | 9.778476e-01 | 0.6597712 | 4.201310e-03 | 3.884398e-01 | 5.206467e-01 | 1.171887e-01 | 8.736807e-01 | 5.816381e-01 | 4.657483e-02 | 0.86421073 | 0.68298564 |\n\n",
            "text/latex": "A tibble: 6 × 17\n\\begin{tabular}{lllllllllllllllll}\n target\\_species & modelr2 & detections & sum\\_counts & (Intercept) & Bases & batchBatch10 & batchBatch2 & batchBatch3 & batchBatch4 & batchBatch5 & batchBatch6 & batchBatch7 & batchBatch8 & batchBatch9 & diagnosisMDD & crp\\\\\n <chr> & <dbl> & <int> & <dbl> & <dbl> & <dbl> & <dbl> & <dbl> & <dbl> & <dbl> & <dbl> & <dbl> & <dbl> & <dbl> & <dbl> & <dbl> & <dbl>\\\\\n\\hline\n\t cellular organisms & 0.9983954 & 139 & 2773867126 & 6.413165e-01 & 8.269416e-176 & 2.171541e-01 & 0.1594096 & 2.818031e-02 & 7.441269e-03 & 4.913262e-01 & 9.360912e-02 & 9.301878e-01 & 5.811970e-01 & 9.261220e-01 & 0.13688588 & 0.85833313\\\\\n\t Amniota            & 0.9887740 & 139 & 2554202563 & 6.528207e-01 & 7.812851e-123 & 8.511117e-01 & 0.8066524 & 8.966680e-03 & 4.197384e-01 & 6.842731e-01 & 1.373458e-01 & 7.736521e-01 & 5.067890e-01 & 5.751578e-02 & 0.95892705 & 0.71753879\\\\\n\t Caniformia         & 0.3387111 & 139 &      81403 & 2.653095e-01 &  4.454264e-09 & 5.892502e-01 & 0.6166287 & 6.033077e-02 & 1.158998e-02 & 1.675593e-01 & 3.953240e-01 & 6.105378e-01 & 8.145545e-01 & 6.319679e-01 & 0.68148969 & 0.81948676\\\\\n\t Cercopithecidae    & 0.6323060 & 139 &    2915938 & 7.458141e-01 &  7.611303e-27 & 1.975866e-01 & 0.1195979 & 3.901192e-01 & 2.564989e-01 & 4.701160e-01 & 9.143186e-01 & 4.524561e-01 & 4.662652e-01 & 5.068155e-01 & 0.28612572 & 0.51826955\\\\\n\t Muridae            & 0.7468732 &  46 &    8516426 & 1.171321e-12 &  1.690774e-01 & 8.527691e-24 & 0.1637200 & 4.509626e-17 & 3.140207e-22 & 6.824605e-22 & 2.561578e-23 & 9.606248e-23 & 1.434091e-21 & 6.520249e-23 & 0.01636825 & 0.07692084\\\\\n\t Mammalia           & 0.9891397 & 139 & 2521345029 & 6.960989e-01 & 9.819234e-124 & 9.778476e-01 & 0.6597712 & 4.201310e-03 & 3.884398e-01 & 5.206467e-01 & 1.171887e-01 & 8.736807e-01 & 5.816381e-01 & 4.657483e-02 & 0.86421073 & 0.68298564\\\\\n\\end{tabular}\n",
            "text/plain": [
              "  target_species     modelr2   detections sum_counts (Intercept)  Bases        \n",
              "1 cellular organisms 0.9983954 139        2773867126 6.413165e-01 8.269416e-176\n",
              "2 Amniota            0.9887740 139        2554202563 6.528207e-01 7.812851e-123\n",
              "3 Caniformia         0.3387111 139             81403 2.653095e-01  4.454264e-09\n",
              "4 Cercopithecidae    0.6323060 139           2915938 7.458141e-01  7.611303e-27\n",
              "5 Muridae            0.7468732  46           8516426 1.171321e-12  1.690774e-01\n",
              "6 Mammalia           0.9891397 139        2521345029 6.960989e-01 9.819234e-124\n",
              "  batchBatch10 batchBatch2 batchBatch3  batchBatch4  batchBatch5  batchBatch6 \n",
              "1 2.171541e-01 0.1594096   2.818031e-02 7.441269e-03 4.913262e-01 9.360912e-02\n",
              "2 8.511117e-01 0.8066524   8.966680e-03 4.197384e-01 6.842731e-01 1.373458e-01\n",
              "3 5.892502e-01 0.6166287   6.033077e-02 1.158998e-02 1.675593e-01 3.953240e-01\n",
              "4 1.975866e-01 0.1195979   3.901192e-01 2.564989e-01 4.701160e-01 9.143186e-01\n",
              "5 8.527691e-24 0.1637200   4.509626e-17 3.140207e-22 6.824605e-22 2.561578e-23\n",
              "6 9.778476e-01 0.6597712   4.201310e-03 3.884398e-01 5.206467e-01 1.171887e-01\n",
              "  batchBatch7  batchBatch8  batchBatch9  diagnosisMDD crp       \n",
              "1 9.301878e-01 5.811970e-01 9.261220e-01 0.13688588   0.85833313\n",
              "2 7.736521e-01 5.067890e-01 5.751578e-02 0.95892705   0.71753879\n",
              "3 6.105378e-01 8.145545e-01 6.319679e-01 0.68148969   0.81948676\n",
              "4 4.524561e-01 4.662652e-01 5.068155e-01 0.28612572   0.51826955\n",
              "5 9.606248e-23 1.434091e-21 6.520249e-23 0.01636825   0.07692084\n",
              "6 8.736807e-01 5.816381e-01 4.657483e-02 0.86421073   0.68298564"
            ]
          },
          "metadata": {}
        },
        {
          "output_type": "display_data",
          "data": {
            "text/html": [
              "<style>\n",
              ".list-inline {list-style: none; margin:0; padding: 0}\n",
              ".list-inline>li {display: inline-block}\n",
              ".list-inline>li:not(:last-child)::after {content: \"\\00b7\"; padding: 0 .5ex}\n",
              "</style>\n",
              "<ol class=list-inline><li>'target_species'</li><li>'modelr2'</li><li>'detections'</li><li>'sum_counts'</li><li>'(Intercept)'</li><li>'Bases'</li><li>'batchBatch10'</li><li>'batchBatch2'</li><li>'batchBatch3'</li><li>'batchBatch4'</li><li>'batchBatch5'</li><li>'batchBatch6'</li><li>'batchBatch7'</li><li>'batchBatch8'</li><li>'batchBatch9'</li><li>'diagnosisMDD'</li><li>'crp'</li></ol>\n"
            ],
            "text/markdown": "1. 'target_species'\n2. 'modelr2'\n3. 'detections'\n4. 'sum_counts'\n5. '(Intercept)'\n6. 'Bases'\n7. 'batchBatch10'\n8. 'batchBatch2'\n9. 'batchBatch3'\n10. 'batchBatch4'\n11. 'batchBatch5'\n12. 'batchBatch6'\n13. 'batchBatch7'\n14. 'batchBatch8'\n15. 'batchBatch9'\n16. 'diagnosisMDD'\n17. 'crp'\n\n\n",
            "text/latex": "\\begin{enumerate*}\n\\item 'target\\_species'\n\\item 'modelr2'\n\\item 'detections'\n\\item 'sum\\_counts'\n\\item '(Intercept)'\n\\item 'Bases'\n\\item 'batchBatch10'\n\\item 'batchBatch2'\n\\item 'batchBatch3'\n\\item 'batchBatch4'\n\\item 'batchBatch5'\n\\item 'batchBatch6'\n\\item 'batchBatch7'\n\\item 'batchBatch8'\n\\item 'batchBatch9'\n\\item 'diagnosisMDD'\n\\item 'crp'\n\\end{enumerate*}\n",
            "text/plain": [
              " [1] \"target_species\" \"modelr2\"        \"detections\"     \"sum_counts\"    \n",
              " [5] \"(Intercept)\"    \"Bases\"          \"batchBatch10\"   \"batchBatch2\"   \n",
              " [9] \"batchBatch3\"    \"batchBatch4\"    \"batchBatch5\"    \"batchBatch6\"   \n",
              "[13] \"batchBatch7\"    \"batchBatch8\"    \"batchBatch9\"    \"diagnosisMDD\"  \n",
              "[17] \"crp\"           "
            ]
          },
          "metadata": {}
        }
      ]
    },
    {
      "cell_type": "code",
      "source": [
        "#look at two species\n",
        "combined_results %>% filter(target_species %in% c(\"Homo sapiens\", \"Porphyromonas gingivalis\"))"
      ],
      "metadata": {
        "id": "G5z26u3F5Atp",
        "colab": {
          "base_uri": "https://localhost:8080/",
          "height": 216
        },
        "outputId": "09711298-c11f-4e72-b6fb-fd247c4f3632"
      },
      "execution_count": 39,
      "outputs": [
        {
          "output_type": "display_data",
          "data": {
            "text/html": [
              "<table class=\"dataframe\">\n",
              "<caption>A tibble: 2 × 17</caption>\n",
              "<thead>\n",
              "\t<tr><th scope=col>target_species</th><th scope=col>modelr2</th><th scope=col>detections</th><th scope=col>sum_counts</th><th scope=col>(Intercept)</th><th scope=col>Bases</th><th scope=col>batchBatch10</th><th scope=col>batchBatch2</th><th scope=col>batchBatch3</th><th scope=col>batchBatch4</th><th scope=col>batchBatch5</th><th scope=col>batchBatch6</th><th scope=col>batchBatch7</th><th scope=col>batchBatch8</th><th scope=col>batchBatch9</th><th scope=col>diagnosisMDD</th><th scope=col>crp</th></tr>\n",
              "\t<tr><th scope=col>&lt;chr&gt;</th><th scope=col>&lt;dbl&gt;</th><th scope=col>&lt;int&gt;</th><th scope=col>&lt;dbl&gt;</th><th scope=col>&lt;dbl&gt;</th><th scope=col>&lt;dbl&gt;</th><th scope=col>&lt;dbl&gt;</th><th scope=col>&lt;dbl&gt;</th><th scope=col>&lt;dbl&gt;</th><th scope=col>&lt;dbl&gt;</th><th scope=col>&lt;dbl&gt;</th><th scope=col>&lt;dbl&gt;</th><th scope=col>&lt;dbl&gt;</th><th scope=col>&lt;dbl&gt;</th><th scope=col>&lt;dbl&gt;</th><th scope=col>&lt;dbl&gt;</th><th scope=col>&lt;dbl&gt;</th></tr>\n",
              "</thead>\n",
              "<tbody>\n",
              "\t<tr><td>Homo sapiens            </td><td> 0.607103226</td><td>139</td><td>192011249</td><td>0.8674143</td><td>5.821479e-24</td><td>0.6359393</td><td>0.4552672</td><td>0.1388725</td><td>0.007714065</td><td>0.38232655</td><td>0.3858178</td><td>0.6606225</td><td>0.6547915</td><td>0.9778466</td><td>0.2166534</td><td>0.7276608</td></tr>\n",
              "\t<tr><td>Porphyromonas gingivalis</td><td>-0.003541731</td><td> 11</td><td>       22</td><td>0.9552877</td><td>7.303972e-01</td><td>0.9376490</td><td>0.9199658</td><td>0.9415337</td><td>0.191193802</td><td>0.05763167</td><td>0.8865799</td><td>0.4771167</td><td>0.2995888</td><td>0.4426183</td><td>0.2619778</td><td>0.8684023</td></tr>\n",
              "</tbody>\n",
              "</table>\n"
            ],
            "text/markdown": "\nA tibble: 2 × 17\n\n| target_species &lt;chr&gt; | modelr2 &lt;dbl&gt; | detections &lt;int&gt; | sum_counts &lt;dbl&gt; | (Intercept) &lt;dbl&gt; | Bases &lt;dbl&gt; | batchBatch10 &lt;dbl&gt; | batchBatch2 &lt;dbl&gt; | batchBatch3 &lt;dbl&gt; | batchBatch4 &lt;dbl&gt; | batchBatch5 &lt;dbl&gt; | batchBatch6 &lt;dbl&gt; | batchBatch7 &lt;dbl&gt; | batchBatch8 &lt;dbl&gt; | batchBatch9 &lt;dbl&gt; | diagnosisMDD &lt;dbl&gt; | crp &lt;dbl&gt; |\n|---|---|---|---|---|---|---|---|---|---|---|---|---|---|---|---|---|\n| Homo sapiens             |  0.607103226 | 139 | 192011249 | 0.8674143 | 5.821479e-24 | 0.6359393 | 0.4552672 | 0.1388725 | 0.007714065 | 0.38232655 | 0.3858178 | 0.6606225 | 0.6547915 | 0.9778466 | 0.2166534 | 0.7276608 |\n| Porphyromonas gingivalis | -0.003541731 |  11 |        22 | 0.9552877 | 7.303972e-01 | 0.9376490 | 0.9199658 | 0.9415337 | 0.191193802 | 0.05763167 | 0.8865799 | 0.4771167 | 0.2995888 | 0.4426183 | 0.2619778 | 0.8684023 |\n\n",
            "text/latex": "A tibble: 2 × 17\n\\begin{tabular}{lllllllllllllllll}\n target\\_species & modelr2 & detections & sum\\_counts & (Intercept) & Bases & batchBatch10 & batchBatch2 & batchBatch3 & batchBatch4 & batchBatch5 & batchBatch6 & batchBatch7 & batchBatch8 & batchBatch9 & diagnosisMDD & crp\\\\\n <chr> & <dbl> & <int> & <dbl> & <dbl> & <dbl> & <dbl> & <dbl> & <dbl> & <dbl> & <dbl> & <dbl> & <dbl> & <dbl> & <dbl> & <dbl> & <dbl>\\\\\n\\hline\n\t Homo sapiens             &  0.607103226 & 139 & 192011249 & 0.8674143 & 5.821479e-24 & 0.6359393 & 0.4552672 & 0.1388725 & 0.007714065 & 0.38232655 & 0.3858178 & 0.6606225 & 0.6547915 & 0.9778466 & 0.2166534 & 0.7276608\\\\\n\t Porphyromonas gingivalis & -0.003541731 &  11 &        22 & 0.9552877 & 7.303972e-01 & 0.9376490 & 0.9199658 & 0.9415337 & 0.191193802 & 0.05763167 & 0.8865799 & 0.4771167 & 0.2995888 & 0.4426183 & 0.2619778 & 0.8684023\\\\\n\\end{tabular}\n",
            "text/plain": [
              "  target_species           modelr2      detections sum_counts (Intercept)\n",
              "1 Homo sapiens              0.607103226 139        192011249  0.8674143  \n",
              "2 Porphyromonas gingivalis -0.003541731  11               22  0.9552877  \n",
              "  Bases        batchBatch10 batchBatch2 batchBatch3 batchBatch4 batchBatch5\n",
              "1 5.821479e-24 0.6359393    0.4552672   0.1388725   0.007714065 0.38232655 \n",
              "2 7.303972e-01 0.9376490    0.9199658   0.9415337   0.191193802 0.05763167 \n",
              "  batchBatch6 batchBatch7 batchBatch8 batchBatch9 diagnosisMDD crp      \n",
              "1 0.3858178   0.6606225   0.6547915   0.9778466   0.2166534    0.7276608\n",
              "2 0.8865799   0.4771167   0.2995888   0.4426183   0.2619778    0.8684023"
            ]
          },
          "metadata": {}
        }
      ]
    },
    {
      "cell_type": "code",
      "source": [
        "full_table %>% filter(name == \"Streptococcus oralis\") %>%\n",
        "  select(biosample, total_count) %>%\n",
        "  group_by(biosample) %>%\n",
        "  summarise(total_count = sum(total_count), .groups = \"drop\") %>%\n",
        "  right_join(sample_counts, by = join_by(biosample)) %>%\n",
        "  mutate(\n",
        "    total_count     = replace_na(total_count, 0),\n",
        "    base_normalized = total_count / Bases * 1e9\n",
        "  ) %>% arrange(-total_count) %>% head(10)\n"
      ],
      "metadata": {
        "colab": {
          "base_uri": "https://localhost:8080/",
          "height": 412
        },
        "id": "ppb8wenj5BBA",
        "outputId": "f291366d-d232-4f24-ceac-103ef4240704"
      },
      "execution_count": 22,
      "outputs": [
        {
          "output_type": "display_data",
          "data": {
            "text/html": [
              "<table class=\"dataframe\">\n",
              "<caption>A tibble: 10 × 8</caption>\n",
              "<thead>\n",
              "\t<tr><th scope=col>biosample</th><th scope=col>total_count</th><th scope=col>batch</th><th scope=col>diagnosis</th><th scope=col>crp</th><th scope=col>run_count</th><th scope=col>Bases</th><th scope=col>base_normalized</th></tr>\n",
              "\t<tr><th scope=col>&lt;chr&gt;</th><th scope=col>&lt;dbl&gt;</th><th scope=col>&lt;chr&gt;</th><th scope=col>&lt;chr&gt;</th><th scope=col>&lt;dbl&gt;</th><th scope=col>&lt;int&gt;</th><th scope=col>&lt;dbl&gt;</th><th scope=col>&lt;dbl&gt;</th></tr>\n",
              "</thead>\n",
              "<tbody>\n",
              "\t<tr><td>61_S5  </td><td>135</td><td>Batch5 </td><td>MDD</td><td>10.3</td><td>4</td><td>3039583236</td><td>44.413984</td></tr>\n",
              "\t<tr><td>53_S10 </td><td> 73</td><td>Batch4 </td><td>MDD</td><td> 8.4</td><td>4</td><td>3233602084</td><td>22.575443</td></tr>\n",
              "\t<tr><td>92_S4  </td><td> 21</td><td>Batch7 </td><td>MDD</td><td> 0.3</td><td>4</td><td>2870762943</td><td> 7.315129</td></tr>\n",
              "\t<tr><td>2749_S7</td><td> 19</td><td>Batch10</td><td>MDD</td><td> 0.8</td><td>4</td><td>5565898825</td><td> 3.413645</td></tr>\n",
              "\t<tr><td>60_S4  </td><td> 19</td><td>Batch5 </td><td>MDD</td><td> 0.6</td><td>4</td><td>2650842653</td><td> 7.167532</td></tr>\n",
              "\t<tr><td>9_S9   </td><td> 18</td><td>Batch1 </td><td>HC </td><td> 2.2</td><td>4</td><td>3582839894</td><td> 5.023948</td></tr>\n",
              "\t<tr><td>105_S6 </td><td> 14</td><td>Batch8 </td><td>HC </td><td> 0.4</td><td>4</td><td>3354212144</td><td> 4.173856</td></tr>\n",
              "\t<tr><td>13_S12 </td><td> 14</td><td>Batch1 </td><td>MDD</td><td> 0.3</td><td>4</td><td>4165627086</td><td> 3.360839</td></tr>\n",
              "\t<tr><td>94_S6  </td><td> 14</td><td>Batch7 </td><td>MDD</td><td> 3.6</td><td>4</td><td>2774008462</td><td> 5.046848</td></tr>\n",
              "\t<tr><td>10_S10 </td><td> 11</td><td>Batch1 </td><td>MDD</td><td> 0.9</td><td>4</td><td>3517635943</td><td> 3.127100</td></tr>\n",
              "</tbody>\n",
              "</table>\n"
            ],
            "text/markdown": "\nA tibble: 10 × 8\n\n| biosample &lt;chr&gt; | total_count &lt;dbl&gt; | batch &lt;chr&gt; | diagnosis &lt;chr&gt; | crp &lt;dbl&gt; | run_count &lt;int&gt; | Bases &lt;dbl&gt; | base_normalized &lt;dbl&gt; |\n|---|---|---|---|---|---|---|---|\n| 61_S5   | 135 | Batch5  | MDD | 10.3 | 4 | 3039583236 | 44.413984 |\n| 53_S10  |  73 | Batch4  | MDD |  8.4 | 4 | 3233602084 | 22.575443 |\n| 92_S4   |  21 | Batch7  | MDD |  0.3 | 4 | 2870762943 |  7.315129 |\n| 2749_S7 |  19 | Batch10 | MDD |  0.8 | 4 | 5565898825 |  3.413645 |\n| 60_S4   |  19 | Batch5  | MDD |  0.6 | 4 | 2650842653 |  7.167532 |\n| 9_S9    |  18 | Batch1  | HC  |  2.2 | 4 | 3582839894 |  5.023948 |\n| 105_S6  |  14 | Batch8  | HC  |  0.4 | 4 | 3354212144 |  4.173856 |\n| 13_S12  |  14 | Batch1  | MDD |  0.3 | 4 | 4165627086 |  3.360839 |\n| 94_S6   |  14 | Batch7  | MDD |  3.6 | 4 | 2774008462 |  5.046848 |\n| 10_S10  |  11 | Batch1  | MDD |  0.9 | 4 | 3517635943 |  3.127100 |\n\n",
            "text/latex": "A tibble: 10 × 8\n\\begin{tabular}{llllllll}\n biosample & total\\_count & batch & diagnosis & crp & run\\_count & Bases & base\\_normalized\\\\\n <chr> & <dbl> & <chr> & <chr> & <dbl> & <int> & <dbl> & <dbl>\\\\\n\\hline\n\t 61\\_S5   & 135 & Batch5  & MDD & 10.3 & 4 & 3039583236 & 44.413984\\\\\n\t 53\\_S10  &  73 & Batch4  & MDD &  8.4 & 4 & 3233602084 & 22.575443\\\\\n\t 92\\_S4   &  21 & Batch7  & MDD &  0.3 & 4 & 2870762943 &  7.315129\\\\\n\t 2749\\_S7 &  19 & Batch10 & MDD &  0.8 & 4 & 5565898825 &  3.413645\\\\\n\t 60\\_S4   &  19 & Batch5  & MDD &  0.6 & 4 & 2650842653 &  7.167532\\\\\n\t 9\\_S9    &  18 & Batch1  & HC  &  2.2 & 4 & 3582839894 &  5.023948\\\\\n\t 105\\_S6  &  14 & Batch8  & HC  &  0.4 & 4 & 3354212144 &  4.173856\\\\\n\t 13\\_S12  &  14 & Batch1  & MDD &  0.3 & 4 & 4165627086 &  3.360839\\\\\n\t 94\\_S6   &  14 & Batch7  & MDD &  3.6 & 4 & 2774008462 &  5.046848\\\\\n\t 10\\_S10  &  11 & Batch1  & MDD &  0.9 & 4 & 3517635943 &  3.127100\\\\\n\\end{tabular}\n",
            "text/plain": [
              "   biosample total_count batch   diagnosis crp  run_count Bases     \n",
              "1  61_S5     135         Batch5  MDD       10.3 4         3039583236\n",
              "2  53_S10     73         Batch4  MDD        8.4 4         3233602084\n",
              "3  92_S4      21         Batch7  MDD        0.3 4         2870762943\n",
              "4  2749_S7    19         Batch10 MDD        0.8 4         5565898825\n",
              "5  60_S4      19         Batch5  MDD        0.6 4         2650842653\n",
              "6  9_S9       18         Batch1  HC         2.2 4         3582839894\n",
              "7  105_S6     14         Batch8  HC         0.4 4         3354212144\n",
              "8  13_S12     14         Batch1  MDD        0.3 4         4165627086\n",
              "9  94_S6      14         Batch7  MDD        3.6 4         2774008462\n",
              "10 10_S10     11         Batch1  MDD        0.9 4         3517635943\n",
              "   base_normalized\n",
              "1  44.413984      \n",
              "2  22.575443      \n",
              "3   7.315129      \n",
              "4   3.413645      \n",
              "5   7.167532      \n",
              "6   5.023948      \n",
              "7   4.173856      \n",
              "8   3.360839      \n",
              "9   5.046848      \n",
              "10  3.127100      "
            ]
          },
          "metadata": {}
        }
      ]
    },
    {
      "cell_type": "code",
      "source": [
        "full_table %>% filter(name == \"Haemophilus sputorum\") %>%\n",
        "  select(biosample, total_count) %>%\n",
        "  group_by(biosample) %>%\n",
        "  summarise(total_count = sum(total_count), .groups = \"drop\") %>%\n",
        "  right_join(sample_counts, by = join_by(biosample)) %>%\n",
        "  mutate(\n",
        "    total_count     = replace_na(total_count, 0),\n",
        "    base_normalized = total_count / Bases * 1e9\n",
        "  ) %>% arrange(-total_count) %>% head(10)"
      ],
      "metadata": {
        "colab": {
          "base_uri": "https://localhost:8080/",
          "height": 412
        },
        "id": "ORT01GVzA-ck",
        "outputId": "1c31f16e-856f-440b-f1eb-a2b7667ef22c"
      },
      "execution_count": 23,
      "outputs": [
        {
          "output_type": "display_data",
          "data": {
            "text/html": [
              "<table class=\"dataframe\">\n",
              "<caption>A tibble: 10 × 8</caption>\n",
              "<thead>\n",
              "\t<tr><th scope=col>biosample</th><th scope=col>total_count</th><th scope=col>batch</th><th scope=col>diagnosis</th><th scope=col>crp</th><th scope=col>run_count</th><th scope=col>Bases</th><th scope=col>base_normalized</th></tr>\n",
              "\t<tr><th scope=col>&lt;chr&gt;</th><th scope=col>&lt;dbl&gt;</th><th scope=col>&lt;chr&gt;</th><th scope=col>&lt;chr&gt;</th><th scope=col>&lt;dbl&gt;</th><th scope=col>&lt;int&gt;</th><th scope=col>&lt;dbl&gt;</th><th scope=col>&lt;dbl&gt;</th></tr>\n",
              "</thead>\n",
              "<tbody>\n",
              "\t<tr><td>61_S5  </td><td>332</td><td>Batch5 </td><td>MDD</td><td>10.3</td><td>4</td><td>3039583236</td><td>109.2255004</td></tr>\n",
              "\t<tr><td>53_S10 </td><td>161</td><td>Batch4 </td><td>MDD</td><td> 8.4</td><td>4</td><td>3233602084</td><td> 49.7896760</td></tr>\n",
              "\t<tr><td>60_S4  </td><td> 27</td><td>Batch5 </td><td>MDD</td><td> 0.6</td><td>4</td><td>2650842653</td><td> 10.1854405</td></tr>\n",
              "\t<tr><td>36_S1  </td><td> 22</td><td>Batch4 </td><td>MDD</td><td> 1.3</td><td>4</td><td>2050120332</td><td> 10.7310774</td></tr>\n",
              "\t<tr><td>54_S11 </td><td> 15</td><td>Batch4 </td><td>MDD</td><td> 3.3</td><td>4</td><td>3183554164</td><td>  4.7117150</td></tr>\n",
              "\t<tr><td>8654_S2</td><td>  4</td><td>Batch10</td><td>MDD</td><td> 0.8</td><td>4</td><td>2779599645</td><td>  1.4390562</td></tr>\n",
              "\t<tr><td>106_S7 </td><td>  2</td><td>Batch8 </td><td>MDD</td><td> 4.0</td><td>4</td><td>2645873905</td><td>  0.7558939</td></tr>\n",
              "\t<tr><td>128_S13</td><td>  2</td><td>Batch7 </td><td>MDD</td><td> 0.8</td><td>4</td><td>3059309372</td><td>  0.6537423</td></tr>\n",
              "\t<tr><td>47_S5  </td><td>  2</td><td>Batch4 </td><td>MDD</td><td> 3.1</td><td>4</td><td>2607688920</td><td>  0.7669626</td></tr>\n",
              "\t<tr><td>90_S2  </td><td>  2</td><td>Batch7 </td><td>MDD</td><td> 4.5</td><td>4</td><td>1815899493</td><td>  1.1013825</td></tr>\n",
              "</tbody>\n",
              "</table>\n"
            ],
            "text/markdown": "\nA tibble: 10 × 8\n\n| biosample &lt;chr&gt; | total_count &lt;dbl&gt; | batch &lt;chr&gt; | diagnosis &lt;chr&gt; | crp &lt;dbl&gt; | run_count &lt;int&gt; | Bases &lt;dbl&gt; | base_normalized &lt;dbl&gt; |\n|---|---|---|---|---|---|---|---|\n| 61_S5   | 332 | Batch5  | MDD | 10.3 | 4 | 3039583236 | 109.2255004 |\n| 53_S10  | 161 | Batch4  | MDD |  8.4 | 4 | 3233602084 |  49.7896760 |\n| 60_S4   |  27 | Batch5  | MDD |  0.6 | 4 | 2650842653 |  10.1854405 |\n| 36_S1   |  22 | Batch4  | MDD |  1.3 | 4 | 2050120332 |  10.7310774 |\n| 54_S11  |  15 | Batch4  | MDD |  3.3 | 4 | 3183554164 |   4.7117150 |\n| 8654_S2 |   4 | Batch10 | MDD |  0.8 | 4 | 2779599645 |   1.4390562 |\n| 106_S7  |   2 | Batch8  | MDD |  4.0 | 4 | 2645873905 |   0.7558939 |\n| 128_S13 |   2 | Batch7  | MDD |  0.8 | 4 | 3059309372 |   0.6537423 |\n| 47_S5   |   2 | Batch4  | MDD |  3.1 | 4 | 2607688920 |   0.7669626 |\n| 90_S2   |   2 | Batch7  | MDD |  4.5 | 4 | 1815899493 |   1.1013825 |\n\n",
            "text/latex": "A tibble: 10 × 8\n\\begin{tabular}{llllllll}\n biosample & total\\_count & batch & diagnosis & crp & run\\_count & Bases & base\\_normalized\\\\\n <chr> & <dbl> & <chr> & <chr> & <dbl> & <int> & <dbl> & <dbl>\\\\\n\\hline\n\t 61\\_S5   & 332 & Batch5  & MDD & 10.3 & 4 & 3039583236 & 109.2255004\\\\\n\t 53\\_S10  & 161 & Batch4  & MDD &  8.4 & 4 & 3233602084 &  49.7896760\\\\\n\t 60\\_S4   &  27 & Batch5  & MDD &  0.6 & 4 & 2650842653 &  10.1854405\\\\\n\t 36\\_S1   &  22 & Batch4  & MDD &  1.3 & 4 & 2050120332 &  10.7310774\\\\\n\t 54\\_S11  &  15 & Batch4  & MDD &  3.3 & 4 & 3183554164 &   4.7117150\\\\\n\t 8654\\_S2 &   4 & Batch10 & MDD &  0.8 & 4 & 2779599645 &   1.4390562\\\\\n\t 106\\_S7  &   2 & Batch8  & MDD &  4.0 & 4 & 2645873905 &   0.7558939\\\\\n\t 128\\_S13 &   2 & Batch7  & MDD &  0.8 & 4 & 3059309372 &   0.6537423\\\\\n\t 47\\_S5   &   2 & Batch4  & MDD &  3.1 & 4 & 2607688920 &   0.7669626\\\\\n\t 90\\_S2   &   2 & Batch7  & MDD &  4.5 & 4 & 1815899493 &   1.1013825\\\\\n\\end{tabular}\n",
            "text/plain": [
              "   biosample total_count batch   diagnosis crp  run_count Bases     \n",
              "1  61_S5     332         Batch5  MDD       10.3 4         3039583236\n",
              "2  53_S10    161         Batch4  MDD        8.4 4         3233602084\n",
              "3  60_S4      27         Batch5  MDD        0.6 4         2650842653\n",
              "4  36_S1      22         Batch4  MDD        1.3 4         2050120332\n",
              "5  54_S11     15         Batch4  MDD        3.3 4         3183554164\n",
              "6  8654_S2     4         Batch10 MDD        0.8 4         2779599645\n",
              "7  106_S7      2         Batch8  MDD        4.0 4         2645873905\n",
              "8  128_S13     2         Batch7  MDD        0.8 4         3059309372\n",
              "9  47_S5       2         Batch4  MDD        3.1 4         2607688920\n",
              "10 90_S2       2         Batch7  MDD        4.5 4         1815899493\n",
              "   base_normalized\n",
              "1  109.2255004    \n",
              "2   49.7896760    \n",
              "3   10.1854405    \n",
              "4   10.7310774    \n",
              "5    4.7117150    \n",
              "6    1.4390562    \n",
              "7    0.7558939    \n",
              "8    0.6537423    \n",
              "9    0.7669626    \n",
              "10   1.1013825    "
            ]
          },
          "metadata": {}
        }
      ]
    },
    {
      "cell_type": "code",
      "source": [],
      "metadata": {
        "id": "yIlZ9bczA_Hr"
      },
      "execution_count": null,
      "outputs": []
    }
  ]
}